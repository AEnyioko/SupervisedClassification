{
 "cells": [
  {
   "cell_type": "markdown",
   "id": "65f09eb0",
   "metadata": {},
   "source": [
    "%load_ext watermark\n",
    "%watermark -a \"Chibuzor Enyioko\" -d -v -p numpy,pandas,matplotlib,seaborn,sklearn"
   ]
  },
  {
   "cell_type": "markdown",
   "id": "24d733ab",
   "metadata": {},
   "source": [
    "# Project 2: Supervised Classification\n",
    "\n",
    "This project uses python packages to perform different unsupervised learning methods on a given breast cancer and diabetes dataset.\n",
    "\n",
    "## Part 1: Breast Cancer Dataset\n",
    "### Importing the Data"
   ]
  },
  {
   "cell_type": "code",
   "execution_count": null,
   "id": "d2ea2a55",
   "metadata": {},
   "outputs": [],
   "source": [
    "import pandas as pd\n",
    "import numpy as np\n",
    "import matplotlib.pyplot as plt\n",
    "import sklearn as sk\n",
    "import seaborn as sns\n",
    "\n",
    "\n",
    "bc_training_data = pd.read_csv(\"cancer_training_data.csv\")"
   ]
  }
 ],
 "metadata": {
  "kernelspec": {
   "display_name": "sklearn-env",
   "language": "python",
   "name": "python3"
  },
  "language_info": {
   "codemirror_mode": {
    "name": "ipython",
    "version": 3
   },
   "file_extension": ".py",
   "mimetype": "text/x-python",
   "name": "python",
   "nbconvert_exporter": "python",
   "pygments_lexer": "ipython3",
   "version": "3.13.7"
  }
 },
 "nbformat": 4,
 "nbformat_minor": 5
}
