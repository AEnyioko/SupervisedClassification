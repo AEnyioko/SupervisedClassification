{
 "cells": [
  {
   "cell_type": "markdown",
   "id": "65f09eb0",
   "metadata": {},
   "source": [
    "%load_ext watermark\n",
    "%watermark -a \"Chibuzor Enyioko\" -d -v -p numpy,pandas,matplotlib,seaborn,sklearn"
   ]
  },
  {
   "cell_type": "markdown",
   "id": "24d733ab",
   "metadata": {},
   "source": [
    "# Project 2: Supervised Classification\n",
    "\n",
    "This project uses python packages to perform different unsupervised learning methods on a given breast cancer and diabetes dataset.\n",
    "\n",
    "## Part 1: Breast Cancer Dataset\n",
    "### Importing the Data"
   ]
  },
  {
   "cell_type": "code",
   "execution_count": 57,
   "id": "d2ea2a55",
   "metadata": {},
   "outputs": [],
   "source": [
    "import pandas as pd\n",
    "import numpy as np\n",
    "import matplotlib.pyplot as plt\n",
    "import sklearn as sk\n",
    "import seaborn as sns\n",
    "\n",
    "# importing data sets\n",
    "bc_training_data = pd.read_csv(\"cancer_training.csv\")\n",
    "bc_test_data = pd.read_csv(\"cancer_testing.csv\")\n",
    "\n",
    "# selecting features and target variable\n",
    "X_train = bc_training_data.drop(columns=['class'])\n",
    "y_train = bc_training_data['class']\n",
    "\n",
    "X_test = bc_test_data.drop(columns=['class'])\n",
    "y_test = bc_test_data['class']\n"
   ]
  },
  {
   "cell_type": "markdown",
   "id": "df3e0888",
   "metadata": {},
   "source": [
    "### Problems\n",
    "1. Identify which column(s) (both train and test) has/have missing values? Identify the ‘row id’s.\n",
    "“Impute” them with “Average/Most Frequent” values."
   ]
  },
  {
   "cell_type": "code",
   "execution_count": 87,
   "id": "49aeaa12",
   "metadata": {},
   "outputs": [
    {
     "name": "stdout",
     "output_type": "stream",
     "text": [
      "In the training set, the missing columns are:\n",
      "node-caps      3\n",
      "breast-quad    1\n",
      "dtype: int64\n",
      "Column 'node-caps' has missing values in rows\n",
      "Row ID's with missing value in column 'node-caps': [7, 64, 179]\n",
      "Column 'breast-quad' has missing values in rows\n",
      "Row ID's with missing value in column 'breast-quad': [155]\n",
      "\n",
      "In the test set, the missing columns are:\n",
      "node-caps    5\n",
      "dtype: int64\n",
      "Column 'node-caps' has missing values in rows\n",
      "Row ID's with missing value in column 'node-caps': [21, 32, 51, 55, 72]\n"
     ]
    }
   ],
   "source": [
    "from sklearn.impute import SimpleImputer\n",
    "\n",
    "# Imputating missing values with most frequent value\n",
    "imputer = SimpleImputer(strategy='most_frequent')\n",
    "X_train_imputed = pd.DataFrame(imputer.fit_transform(X_train), columns=X_train.columns)\n",
    "\n",
    "# Identifying columns with missing values\n",
    "# training set\n",
    "\n",
    "X_train.replace(\"?\", np.nan, inplace=True)\n",
    "missing_val_columns = X_train.isnull().sum()\n",
    "print(f\"In the training set, the missing columns are:\\n{missing_val_columns[missing_val_columns > 0]}\")\n",
    "\n",
    "for col in missing_val_columns[missing_val_columns > 0].index:\n",
    "    missing_rows = X_train[X_train[col].isnull()]\n",
    "    print(f\"Column '{col}' has missing values in rows\")\n",
    "    row_id = []\n",
    "    for i in missing_rows['id']:\n",
    "        row_id.append(i)\n",
    "    print(f\"Row ID's with missing value in column '{col}': {row_id}\")\n",
    "\n",
    "# test set\n",
    "X_test.replace(\"?\", np.nan, inplace=True)\n",
    "missing_val_columns_test = X_test.isnull().sum()\n",
    "print(\"\\n\"f\"In the test set, the missing columns are:\\n{missing_val_columns_test[missing_val_columns_test > 0]}\")\n",
    "for col in missing_val_columns_test[missing_val_columns_test > 0].index:\n",
    "    missing_rows_test = X_test[X_test[col].isnull()]\n",
    "    print(f\"Column '{col}' has missing values in rows\")\n",
    "    row_id = []\n",
    "    for i in missing_rows_test['id']:\n",
    "        row_id.append(i)\n",
    "    print(f\"Row ID's with missing value in column '{col}': {row_id}\")\n",
    "\n",
    "\n"
   ]
  },
  {
   "cell_type": "markdown",
   "id": "0f17a46c",
   "metadata": {},
   "source": [
    "2. Calculate accuracy using each of these classifiers (up to 3 decimal places):"
   ]
  },
  {
   "cell_type": "code",
   "execution_count": null,
   "id": "684365e4",
   "metadata": {},
   "outputs": [],
   "source": [
    "# Logistic Regression\n",
    "from sklearn.linear_model import LogisticRegression\n"
   ]
  }
 ],
 "metadata": {
  "kernelspec": {
   "display_name": "sklearn-env",
   "language": "python",
   "name": "python3"
  },
  "language_info": {
   "codemirror_mode": {
    "name": "ipython",
    "version": 3
   },
   "file_extension": ".py",
   "mimetype": "text/x-python",
   "name": "python",
   "nbconvert_exporter": "python",
   "pygments_lexer": "ipython3",
   "version": "3.13.7"
  }
 },
 "nbformat": 4,
 "nbformat_minor": 5
}
